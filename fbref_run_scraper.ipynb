{
 "cells": [
  {
   "cell_type": "code",
   "execution_count": 1,
   "metadata": {},
   "outputs": [],
   "source": [
    "import os, logging\n",
    "import pandas as pd\n",
    "from urllib.parse import urljoin\n",
    "import concurrent.futures\n",
    "from selenium import webdriver\n",
    "from selenium.webdriver.chrome.service import Service\n",
    "from selenium.webdriver.chrome.options import Options\n",
    "from webdriver_manager.chrome import ChromeDriverManager\n",
    "from constants import FBREF_HOMEPAGE_URL, FBREF_MATCHES_URL_PATH, PREM_LEAGUE_SCORES_URL, PREM_URL, LEAGUE_TEAM_TABLE_ID\n",
    "from fbref_scraper_match_report import load_match_soup_combined, retrieve_match_soup_info_to_df\n",
    "from fbref_all_matches_link_scraper import load_scores_table_soup, get_matches_info\n",
    "from fbref_league_teams import get_teams_table_soup, get_teams_info\n",
    "from helper import create_folder"
   ]
  },
  {
   "cell_type": "code",
   "execution_count": 2,
   "metadata": {},
   "outputs": [],
   "source": [
    "def create_driver():\n",
    "    # create a new Options object\n",
    "    options = Options()\n",
    "\n",
    "    # add the \"--headless\" argument, headless drivers are faster usually\n",
    "    options.add_argument(\"--headless\")\n",
    "\n",
    "    # pass the Options object to the webdriver\n",
    "    driver = webdriver.Chrome(service=Service(ChromeDriverManager().install()), options=options) \n",
    "    return driver"
   ]
  },
  {
   "cell_type": "code",
   "execution_count": 3,
   "metadata": {},
   "outputs": [],
   "source": [
    "if not os.path.isfile(f'team_data/team_data_epl_22_23.csv'):\n",
    "    driver = create_driver()\n",
    "    teams_soup = get_teams_table_soup(PREM_URL, driver, LEAGUE_TEAM_TABLE_ID)\n",
    "    df_team_urls = get_teams_info(teams_soup, LEAGUE_TEAM_TABLE_ID)\n",
    "    create_folder(f'team_data')\n",
    "    df_team_urls.to_csv(f'team_data/team_data_epl_22_23.csv', index=False)"
   ]
  },
  {
   "cell_type": "code",
   "execution_count": 3,
   "metadata": {},
   "outputs": [],
   "source": [
    "if not os.path.isfile(f'match_data/all_match_links_epl_22_23.csv'):\n",
    "    driver = create_driver()\n",
    "    soup = load_scores_table_soup(PREM_LEAGUE_SCORES_URL, driver, tag_id = \"sched_2022-2023_9_1\")\n",
    "    df_links = get_matches_info(soup)\n",
    "\n",
    "    create_folder(f'match_data')\n",
    "    df_links.to_csv(f'match_data/all_match_links_epl_22_23.csv', index=False)"
   ]
  },
  {
   "cell_type": "code",
   "execution_count": 4,
   "metadata": {},
   "outputs": [],
   "source": [
    "df_links = pd.read_csv(\"match_data/all_match_links_epl_22_23.csv\")"
   ]
  },
  {
   "cell_type": "code",
   "execution_count": 5,
   "metadata": {},
   "outputs": [],
   "source": [
    "def setup_logging():\n",
    "    # Set up error logger\n",
    "    logging.basicConfig(filename='logfile_match_report_errors.log', level=logging.ERROR)\n",
    "\n",
    "    # Set up success logger\n",
    "    success_logger = logging.getLogger('success')\n",
    "    success_logger.setLevel(logging.INFO)\n",
    "    success_handler = logging.FileHandler('success.log')\n",
    "    success_handler.setFormatter(logging.Formatter('%(asctime)s - %(message)s'))\n",
    "    success_logger.addHandler(success_handler)\n",
    "\n",
    "    return success_logger\n",
    "\n",
    "def scrape_page(match_uid):\n",
    "    # If directory already exists, skip this iteration\n",
    "    if os.path.isdir(f'match_data/{match_uid}'):\n",
    "        return\n",
    "    \n",
    "    # create a new WebDriver instance\n",
    "    driver = create_driver()\n",
    "\n",
    "    int_url = urljoin(FBREF_HOMEPAGE_URL, FBREF_MATCHES_URL_PATH)\n",
    "    match_url = urljoin(int_url, match_uid)\n",
    "    match_soup = load_match_soup_combined(match_url, driver)\n",
    "    outfield_df_whole, keeper_df_whole = retrieve_match_soup_info_to_df(match_soup)\n",
    "\n",
    "    create_folder(f'match_data/{match_uid}')\n",
    "\n",
    "    index = 0\n",
    "    for df in [outfield_df_whole, keeper_df_whole]:\n",
    "        if index == 0:\n",
    "            df.to_csv(f'match_data/{match_uid}/{match_uid}_outfield.csv', index=False)\n",
    "            index += 1\n",
    "        else:\n",
    "            df.to_csv(f'match_data/{match_uid}/{match_uid}_keeper.csv', index=False)\n",
    "\n",
    "    # close the WebDriver instance\n",
    "    driver.quit()"
   ]
  },
  {
   "cell_type": "code",
   "execution_count": 6,
   "metadata": {},
   "outputs": [],
   "source": [
    "# Set up loggers\n",
    "success_logger = setup_logging()\n",
    "error_logger = logging.getLogger()\n",
    "\n",
    "num_pages_scraped = 0\n",
    "total_pages = len(df_links[\"Match Report_uid\"])\n",
    "\n",
    "unscraped_uids = []\n",
    "for match_uid in df_links[\"Match Report_uid\"]:\n",
    "    if not os.path.isdir(f'match_data/{match_uid}'):\n",
    "        unscraped_uids.append(str(match_uid))\n",
    "\n",
    "num_pages_scraped_before = total_pages - len(unscraped_uids)\n",
    "\n",
    "with concurrent.futures.ThreadPoolExecutor(max_workers=4) as executor:\n",
    "    futures = {executor.submit(scrape_page, match_uid) for match_uid in unscraped_uids}\n",
    "\n",
    "    for i, future in enumerate(concurrent.futures.as_completed(futures)):\n",
    "        match_uid = unscraped_uids[i]  # Get the match_uid at the corresponding index\n",
    "        try:\n",
    "            result = future.result()  \n",
    "        except Exception as e:\n",
    "            error_logger.error(f\"An error occurred with match_uid {match_uid}: {e}\")\n",
    "        else:\n",
    "            num_pages_scraped += 1\n",
    "            total_scraped = (num_pages_scraped+num_pages_scraped_before)\n",
    "            percentage_scraped = (total_scraped / total_pages) * 100\n",
    "            success_logger.info(f\"Page {match_uid} scraped successfully. Total pages scraped: {total_scraped}/{total_pages} ({percentage_scraped:.2f}%)\")\n"
   ]
  }
 ],
 "metadata": {
  "kernelspec": {
   "display_name": "fpl-scraper-venv",
   "language": "python",
   "name": "python3"
  },
  "language_info": {
   "codemirror_mode": {
    "name": "ipython",
    "version": 3
   },
   "file_extension": ".py",
   "mimetype": "text/x-python",
   "name": "python",
   "nbconvert_exporter": "python",
   "pygments_lexer": "ipython3",
   "version": "3.10.4"
  },
  "orig_nbformat": 4
 },
 "nbformat": 4,
 "nbformat_minor": 2
}
