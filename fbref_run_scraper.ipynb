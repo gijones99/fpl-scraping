{
 "cells": [
  {
   "cell_type": "code",
   "execution_count": 1,
   "metadata": {},
   "outputs": [],
   "source": [
    "import pandas as pd\n",
    "from bs4 import BeautifulSoup\n",
    "from urllib.parse import urljoin\n",
    "from selenium import webdriver\n",
    "from selenium.webdriver.chrome.service import Service\n",
    "from selenium.webdriver.common.by import By\n",
    "from selenium.webdriver.support import expected_conditions as EC\n",
    "from selenium.webdriver.support.ui import WebDriverWait\n",
    "from webdriver_manager.chrome import ChromeDriverManager\n",
    "from constants import FBREF_HOMEPAGE_URL, FBREF_MATCHES_URL_PATH, PREM_LEAGUE_SCORES_URL\n",
    "from fbref_scraper_match_report import load_match_soup, retrieve_match_soup_info_to_df\n",
    "from fbref_all_matches_link_scraper import load_scores_table_soup, get_matches_info"
   ]
  },
  {
   "cell_type": "code",
   "execution_count": 2,
   "metadata": {},
   "outputs": [],
   "source": [
    "DRIVER = webdriver.Chrome(service=Service(ChromeDriverManager().install()))"
   ]
  },
  {
   "cell_type": "code",
   "execution_count": 3,
   "metadata": {},
   "outputs": [],
   "source": [
    "soup = load_scores_table_soup(PREM_LEAGUE_SCORES_URL, DRIVER, tag_id = \"sched_2022-2023_9_1\")\n",
    "df_links = get_matches_info(soup)"
   ]
  },
  {
   "cell_type": "code",
   "execution_count": 4,
   "metadata": {},
   "outputs": [
    {
     "name": "stdout",
     "output_type": "stream",
     "text": [
      "https://fbref.com/en/matches/e62f6e78\n"
     ]
    }
   ],
   "source": [
    "for match_uid in df_links[\"Match Report_uid\"]:\n",
    "    int_url = urljoin(FBREF_HOMEPAGE_URL, FBREF_MATCHES_URL_PATH)\n",
    "    match_url = urljoin(int_url, match_uid)\n",
    "    match_soup = load_match_soup(match_url, DRIVER)\n",
    "    outfield_df_whole, keeper_df_whole = retrieve_match_soup_info_to_df(match_soup)\n",
    "    index = 0\n",
    "    for df in [outfield_df_whole, keeper_df_whole]:\n",
    "        if index == 0:\n",
    "            df.to_csv(f'{match_uid}_outfield.csv', index=False)\n",
    "            index += 1\n",
    "        else:\n",
    "            df.to_csv(f'{match_uid}_keeper.csv', index=False)\n",
    "    break\n",
    "\n",
    "DRIVER.quit()"
   ]
  },
  {
   "cell_type": "code",
   "execution_count": null,
   "metadata": {},
   "outputs": [],
   "source": []
  }
 ],
 "metadata": {
  "kernelspec": {
   "display_name": "fpl-scraper-venv",
   "language": "python",
   "name": "python3"
  },
  "language_info": {
   "codemirror_mode": {
    "name": "ipython",
    "version": 3
   },
   "file_extension": ".py",
   "mimetype": "text/x-python",
   "name": "python",
   "nbconvert_exporter": "python",
   "pygments_lexer": "ipython3",
   "version": "3.10.4"
  },
  "orig_nbformat": 4
 },
 "nbformat": 4,
 "nbformat_minor": 2
}
