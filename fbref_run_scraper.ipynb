{
 "cells": [
  {
   "cell_type": "code",
   "execution_count": 1,
   "metadata": {},
   "outputs": [],
   "source": [
    "import os, logging\n",
    "import pandas as pd\n",
    "from urllib.parse import urljoin\n",
    "import concurrent.futures\n",
    "from selenium import webdriver\n",
    "from selenium.webdriver.chrome.service import Service\n",
    "from selenium.webdriver.chrome.options import Options\n",
    "from webdriver_manager.chrome import ChromeDriverManager\n",
    "from constants import FBREF_HOMEPAGE_URL, FBREF_MATCHES_URL_PATH, PREM_LEAGUE_SCORES_URL\n",
    "from fbref_scraper_match_report import load_match_soup_combined, retrieve_match_soup_info_to_df\n",
    "from fbref_all_matches_link_scraper import load_scores_table_soup, get_matches_info"
   ]
  },
  {
   "cell_type": "code",
   "execution_count": 2,
   "metadata": {},
   "outputs": [],
   "source": [
    "def create_driver():\n",
    "    # create a new Options object\n",
    "    options = Options()\n",
    "\n",
    "    # add the \"--headless\" argument, headless drivers are faster usually\n",
    "    options.add_argument(\"--headless\")\n",
    "\n",
    "    # pass the Options object to the webdriver\n",
    "    driver = webdriver.Chrome(service=Service(ChromeDriverManager().install()), options=options) \n",
    "    return driver\n",
    "\n",
    "def create_folder(folder_name):\n",
    "    # Check if the directory exists\n",
    "    if not os.path.exists(folder_name):\n",
    "        # If the directory does not exist, create it\n",
    "        os.makedirs(folder_name)"
   ]
  },
  {
   "cell_type": "code",
   "execution_count": 3,
   "metadata": {},
   "outputs": [],
   "source": [
    "if not os.path.isfile(f'match_data/all_match_links_epl_22_23.csv'):\n",
    "    driver = create_driver()\n",
    "    soup = load_scores_table_soup(PREM_LEAGUE_SCORES_URL, driver, tag_id = \"sched_2022-2023_9_1\")\n",
    "    df_links = get_matches_info(soup)\n",
    "\n",
    "    create_folder(f'match_data')\n",
    "    df_links.to_csv(f'match_data/all_match_links_epl_22_23.csv', index=False)"
   ]
  },
  {
   "cell_type": "code",
   "execution_count": 4,
   "metadata": {},
   "outputs": [],
   "source": [
    "df_links = pd.read_csv(\"match_data/all_match_links_epl_22_23.csv\")"
   ]
  },
  {
   "cell_type": "code",
   "execution_count": 5,
   "metadata": {},
   "outputs": [],
   "source": [
    "def scrape_page(match_uid):\n",
    "    # If directory already exists, skip this iteration\n",
    "    if os.path.isdir(f'match_data/{match_uid}'):\n",
    "        return\n",
    "    \n",
    "    # create a new WebDriver instance\n",
    "    driver = create_driver()\n",
    "\n",
    "    int_url = urljoin(FBREF_HOMEPAGE_URL, FBREF_MATCHES_URL_PATH)\n",
    "    match_url = urljoin(int_url, match_uid)\n",
    "    match_soup = load_match_soup_combined(match_url, driver)\n",
    "    outfield_df_whole, keeper_df_whole = retrieve_match_soup_info_to_df(match_soup)\n",
    "\n",
    "    create_folder(f'match_data/{match_uid}')\n",
    "\n",
    "    index = 0\n",
    "    for df in [outfield_df_whole, keeper_df_whole]:\n",
    "        if index == 0:\n",
    "            df.to_csv(f'match_data/{match_uid}/{match_uid}_outfield.csv', index=False)\n",
    "            index += 1\n",
    "        else:\n",
    "            df.to_csv(f'match_data/{match_uid}/{match_uid}_keeper.csv', index=False)\n",
    "\n",
    "    # close the WebDriver instance\n",
    "    driver.quit()"
   ]
  },
  {
   "cell_type": "code",
   "execution_count": 7,
   "metadata": {},
   "outputs": [
    {
     "ename": "KeyboardInterrupt",
     "evalue": "",
     "output_type": "error",
     "traceback": [
      "\u001b[0;31m---------------------------------------------------------------------------\u001b[0m",
      "\u001b[0;31mTypeError\u001b[0m                                 Traceback (most recent call last)",
      "Cell \u001b[0;32mIn[7], line 10\u001b[0m\n\u001b[1;32m      9\u001b[0m \u001b[39mfor\u001b[39;00m future \u001b[39min\u001b[39;00m concurrent\u001b[39m.\u001b[39mfutures\u001b[39m.\u001b[39mas_completed(futures):\n\u001b[0;32m---> 10\u001b[0m     match_uid \u001b[39m=\u001b[39m futures[future]  \u001b[39m# Get the match_uid associated with this future\u001b[39;00m\n\u001b[1;32m     11\u001b[0m     \u001b[39mtry\u001b[39;00m:\n",
      "\u001b[0;31mTypeError\u001b[0m: 'set' object is not subscriptable",
      "\nDuring handling of the above exception, another exception occurred:\n",
      "\u001b[0;31mKeyboardInterrupt\u001b[0m                         Traceback (most recent call last)",
      "Cell \u001b[0;32mIn[7], line 6\u001b[0m\n\u001b[1;32m      2\u001b[0m total_pages \u001b[39m=\u001b[39m \u001b[39mlen\u001b[39m(df_links[\u001b[39m\"\u001b[39m\u001b[39mMatch Report_uid\u001b[39m\u001b[39m\"\u001b[39m])\n\u001b[1;32m      4\u001b[0m logging\u001b[39m.\u001b[39mbasicConfig(filename\u001b[39m=\u001b[39m\u001b[39m'\u001b[39m\u001b[39mlogfile_match_report_errors.log\u001b[39m\u001b[39m'\u001b[39m, level\u001b[39m=\u001b[39mlogging\u001b[39m.\u001b[39mERROR)\n\u001b[0;32m----> 6\u001b[0m \u001b[39mwith\u001b[39;00m concurrent\u001b[39m.\u001b[39mfutures\u001b[39m.\u001b[39mThreadPoolExecutor(max_workers\u001b[39m=\u001b[39m\u001b[39m4\u001b[39m) \u001b[39mas\u001b[39;00m executor:\n\u001b[1;32m      7\u001b[0m     futures \u001b[39m=\u001b[39m {executor\u001b[39m.\u001b[39msubmit(scrape_page, \u001b[39mstr\u001b[39m(match_uid)) \u001b[39mfor\u001b[39;00m match_uid \u001b[39min\u001b[39;00m df_links[\u001b[39m\"\u001b[39m\u001b[39mMatch Report_uid\u001b[39m\u001b[39m\"\u001b[39m]}\n\u001b[1;32m      9\u001b[0m     \u001b[39mfor\u001b[39;00m future \u001b[39min\u001b[39;00m concurrent\u001b[39m.\u001b[39mfutures\u001b[39m.\u001b[39mas_completed(futures):\n",
      "File \u001b[0;32m/Library/Frameworks/Python.framework/Versions/3.10/lib/python3.10/concurrent/futures/_base.py:637\u001b[0m, in \u001b[0;36mExecutor.__exit__\u001b[0;34m(self, exc_type, exc_val, exc_tb)\u001b[0m\n\u001b[1;32m    636\u001b[0m \u001b[39mdef\u001b[39;00m \u001b[39m__exit__\u001b[39m(\u001b[39mself\u001b[39m, exc_type, exc_val, exc_tb):\n\u001b[0;32m--> 637\u001b[0m     \u001b[39mself\u001b[39;49m\u001b[39m.\u001b[39;49mshutdown(wait\u001b[39m=\u001b[39;49m\u001b[39mTrue\u001b[39;49;00m)\n\u001b[1;32m    638\u001b[0m     \u001b[39mreturn\u001b[39;00m \u001b[39mFalse\u001b[39;00m\n",
      "File \u001b[0;32m/Library/Frameworks/Python.framework/Versions/3.10/lib/python3.10/concurrent/futures/thread.py:235\u001b[0m, in \u001b[0;36mThreadPoolExecutor.shutdown\u001b[0;34m(self, wait, cancel_futures)\u001b[0m\n\u001b[1;32m    233\u001b[0m \u001b[39mif\u001b[39;00m wait:\n\u001b[1;32m    234\u001b[0m     \u001b[39mfor\u001b[39;00m t \u001b[39min\u001b[39;00m \u001b[39mself\u001b[39m\u001b[39m.\u001b[39m_threads:\n\u001b[0;32m--> 235\u001b[0m         t\u001b[39m.\u001b[39;49mjoin()\n",
      "File \u001b[0;32m/Library/Frameworks/Python.framework/Versions/3.10/lib/python3.10/threading.py:1089\u001b[0m, in \u001b[0;36mThread.join\u001b[0;34m(self, timeout)\u001b[0m\n\u001b[1;32m   1086\u001b[0m     \u001b[39mraise\u001b[39;00m \u001b[39mRuntimeError\u001b[39;00m(\u001b[39m\"\u001b[39m\u001b[39mcannot join current thread\u001b[39m\u001b[39m\"\u001b[39m)\n\u001b[1;32m   1088\u001b[0m \u001b[39mif\u001b[39;00m timeout \u001b[39mis\u001b[39;00m \u001b[39mNone\u001b[39;00m:\n\u001b[0;32m-> 1089\u001b[0m     \u001b[39mself\u001b[39;49m\u001b[39m.\u001b[39;49m_wait_for_tstate_lock()\n\u001b[1;32m   1090\u001b[0m \u001b[39melse\u001b[39;00m:\n\u001b[1;32m   1091\u001b[0m     \u001b[39m# the behavior of a negative timeout isn't documented, but\u001b[39;00m\n\u001b[1;32m   1092\u001b[0m     \u001b[39m# historically .join(timeout=x) for x<0 has acted as if timeout=0\u001b[39;00m\n\u001b[1;32m   1093\u001b[0m     \u001b[39mself\u001b[39m\u001b[39m.\u001b[39m_wait_for_tstate_lock(timeout\u001b[39m=\u001b[39m\u001b[39mmax\u001b[39m(timeout, \u001b[39m0\u001b[39m))\n",
      "File \u001b[0;32m/Library/Frameworks/Python.framework/Versions/3.10/lib/python3.10/threading.py:1109\u001b[0m, in \u001b[0;36mThread._wait_for_tstate_lock\u001b[0;34m(self, block, timeout)\u001b[0m\n\u001b[1;32m   1106\u001b[0m     \u001b[39mreturn\u001b[39;00m\n\u001b[1;32m   1108\u001b[0m \u001b[39mtry\u001b[39;00m:\n\u001b[0;32m-> 1109\u001b[0m     \u001b[39mif\u001b[39;00m lock\u001b[39m.\u001b[39;49macquire(block, timeout):\n\u001b[1;32m   1110\u001b[0m         lock\u001b[39m.\u001b[39mrelease()\n\u001b[1;32m   1111\u001b[0m         \u001b[39mself\u001b[39m\u001b[39m.\u001b[39m_stop()\n",
      "\u001b[0;31mKeyboardInterrupt\u001b[0m: "
     ]
    }
   ],
   "source": [
    "num_pages_scraped = 0\n",
    "total_pages = len(df_links[\"Match Report_uid\"])\n",
    "\n",
    "logging.basicConfig(filename='logfile_match_report_errors.log', level=logging.ERROR)\n",
    "\n",
    "with concurrent.futures.ThreadPoolExecutor(max_workers=4) as executor:\n",
    "    futures = {executor.submit(scrape_page, str(match_uid)) for match_uid in df_links[\"Match Report_uid\"]}\n",
    "\n",
    "    for future in concurrent.futures.as_completed(futures):\n",
    "        match_uid = futures[future]  # Get the match_uid associated with this future\n",
    "        try:\n",
    "            result = future.result()  # if your function returns any result\n",
    "        except Exception as e:\n",
    "            #print(f\"An error occurred: {e} at match_uid: {match_uid}\")\n",
    "            logging.error(f\"An error occurred with match_uid {match_uid}: {e}\")\n",
    "        else:\n",
    "            num_pages_scraped += 1\n",
    "            percentage_scraped = (num_pages_scraped / total_pages) * 100\n",
    "            print(f\"Page scraped successfully. Total pages scraped: {num_pages_scraped}/{total_pages} ({percentage_scraped:.2f}%)\", flush=True)"
   ]
  },
  {
   "cell_type": "raw",
   "metadata": {},
   "source": [
    "# use a ThreadPoolExecutor to execute scrape_page in parallel\n",
    "with concurrent.futures.ThreadPoolExecutor() as executor:\n",
    "    executor.map(scrape_page, df_links[\"Match Report_uid\"])"
   ]
  }
 ],
 "metadata": {
  "kernelspec": {
   "display_name": "fpl-scraper-venv",
   "language": "python",
   "name": "python3"
  },
  "language_info": {
   "codemirror_mode": {
    "name": "ipython",
    "version": 3
   },
   "file_extension": ".py",
   "mimetype": "text/x-python",
   "name": "python",
   "nbconvert_exporter": "python",
   "pygments_lexer": "ipython3",
   "version": "3.10.4"
  },
  "orig_nbformat": 4
 },
 "nbformat": 4,
 "nbformat_minor": 2
}
