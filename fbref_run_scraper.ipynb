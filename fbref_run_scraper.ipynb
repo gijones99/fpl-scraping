{
 "cells": [
  {
   "cell_type": "code",
   "execution_count": 1,
   "metadata": {},
   "outputs": [],
   "source": [
    "import os\n",
    "import pandas as pd\n",
    "from urllib.parse import urljoin\n",
    "from selenium import webdriver\n",
    "from selenium.webdriver.chrome.service import Service\n",
    "from selenium.webdriver.chrome.options import Options\n",
    "from webdriver_manager.chrome import ChromeDriverManager\n",
    "from constants import FBREF_HOMEPAGE_URL, FBREF_MATCHES_URL_PATH, PREM_LEAGUE_SCORES_URL\n",
    "from fbref_scraper_match_report import load_match_soup_combined, retrieve_match_soup_info_to_df\n",
    "from fbref_all_matches_link_scraper import load_scores_table_soup, get_matches_info"
   ]
  },
  {
   "cell_type": "code",
   "execution_count": 2,
   "metadata": {},
   "outputs": [],
   "source": [
    "# create a new Options object\n",
    "options = Options()\n",
    "\n",
    "# add the \"--headless\" argument, headless drivers are faster usually\n",
    "options.add_argument(\"--headless\")\n",
    "\n",
    "# pass the Options object to the webdriver\n",
    "DRIVER = webdriver.Chrome(service=Service(ChromeDriverManager().install()), options=options) "
   ]
  },
  {
   "cell_type": "code",
   "execution_count": 3,
   "metadata": {},
   "outputs": [],
   "source": [
    "def create_folder(folder_name):\n",
    "    # Check if the directory exists\n",
    "    if not os.path.exists(folder_name):\n",
    "        # If the directory does not exist, create it\n",
    "        os.makedirs(folder_name)"
   ]
  },
  {
   "cell_type": "code",
   "execution_count": 4,
   "metadata": {},
   "outputs": [],
   "source": [
    "soup = load_scores_table_soup(PREM_LEAGUE_SCORES_URL, DRIVER, tag_id = \"sched_2022-2023_9_1\")\n",
    "df_links = get_matches_info(soup)\n",
    "\n",
    "create_folder(f'match_data')\n",
    "df_links.to_csv(f'match_data/all_match_links_epl_22_23.csv', index=False)"
   ]
  },
  {
   "cell_type": "code",
   "execution_count": 4,
   "metadata": {},
   "outputs": [],
   "source": [
    "df_links = pd.read_csv(\"match_data/all_match_links_epl_22_23.csv\")"
   ]
  },
  {
   "cell_type": "code",
   "execution_count": null,
   "metadata": {},
   "outputs": [],
   "source": [
    "for match_uid in df_links[\"Match Report_uid\"]:\n",
    "    # If directory already exists, skip this iteration\n",
    "    if os.path.isdir(f'match_data/{match_uid}'):\n",
    "        continue\n",
    "\n",
    "    int_url = urljoin(FBREF_HOMEPAGE_URL, FBREF_MATCHES_URL_PATH) # intermediate url bc urljoin can only join 2 paths\n",
    "    match_url = urljoin(int_url, match_uid)\n",
    "    match_soup = load_match_soup_combined(match_url, DRIVER) # Time taken to load match soup: about 85s\n",
    "    outfield_df_whole, keeper_df_whole = retrieve_match_soup_info_to_df(match_soup)\n",
    "\n",
    "    create_folder(f'match_data/{match_uid}')\n",
    "\n",
    "    index = 0\n",
    "    for df in [outfield_df_whole, keeper_df_whole]:\n",
    "        if index == 0:\n",
    "            df.to_csv(f'match_data/{match_uid}/{match_uid}_outfield.csv', index=False)\n",
    "            index += 1\n",
    "        else:\n",
    "            df.to_csv(f'match_data/{match_uid}/{match_uid}_keeper.csv', index=False)\n",
    "    break"
   ]
  },
  {
   "cell_type": "code",
   "execution_count": null,
   "metadata": {},
   "outputs": [],
   "source": [
    "DRIVER.quit()"
   ]
  }
 ],
 "metadata": {
  "kernelspec": {
   "display_name": "fpl-scraper-venv",
   "language": "python",
   "name": "python3"
  },
  "language_info": {
   "codemirror_mode": {
    "name": "ipython",
    "version": 3
   },
   "file_extension": ".py",
   "mimetype": "text/x-python",
   "name": "python",
   "nbconvert_exporter": "python",
   "pygments_lexer": "ipython3",
   "version": "3.10.4"
  },
  "orig_nbformat": 4
 },
 "nbformat": 4,
 "nbformat_minor": 2
}
