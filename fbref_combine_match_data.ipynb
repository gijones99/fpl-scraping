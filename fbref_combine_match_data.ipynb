{
 "cells": [
  {
   "cell_type": "code",
   "execution_count": 1,
   "metadata": {},
   "outputs": [],
   "source": [
    "import os\n",
    "import pandas as pd\n",
    "from helper import create_folder"
   ]
  },
  {
   "cell_type": "code",
   "execution_count": 2,
   "metadata": {},
   "outputs": [],
   "source": [
    "def combine_csv_files(folder_path, file_suffix):\n",
    "    dfs = []\n",
    "    for root, dirs, files in os.walk(folder_path):\n",
    "        for file in files:\n",
    "            if file.endswith(file_suffix):\n",
    "                file_path = os.path.join(root, file)\n",
    "                df = pd.read_csv(file_path)\n",
    "                match_uid = os.path.basename(os.path.dirname(file_path))\n",
    "                df['match_uid'] = str(match_uid)\n",
    "                dfs.append(df)\n",
    "    \n",
    "    combined_df = pd.concat(dfs, axis=0, ignore_index=True)\n",
    "    return combined_df\n",
    "\n",
    "# Combine _outfield.csv files\n",
    "outfield_folder_path = \"match_data\"\n",
    "outfield_suffix = \"_outfield.csv\"\n",
    "outfield_combined_df = combine_csv_files(outfield_folder_path, outfield_suffix)\n",
    "\n",
    "# Combine _keeper.csv files\n",
    "keeper_folder_path = \"match_data\"\n",
    "keeper_suffix = \"_keeper.csv\"\n",
    "keeper_combined_df = combine_csv_files(keeper_folder_path, keeper_suffix)\n",
    "\n",
    "# Save the combined dataframes to CSV files\n",
    "create_folder(\"combined_match_data\")\n",
    "outfield_combined_df.to_csv(\"combined_match_data/outfield_combined.csv\", index=False)\n",
    "keeper_combined_df.to_csv(\"combined_match_data/keeper_combined.csv\", index=False)"
   ]
  },
  {
   "cell_type": "code",
   "execution_count": 3,
   "metadata": {},
   "outputs": [],
   "source": [
    "import csv\n",
    "\n",
    "# Specify the input CSV files\n",
    "outfield_csv = 'combined_match_data/outfield_combined.csv'\n",
    "keeper_csv = 'combined_match_data/keeper_combined.csv'\n",
    "\n",
    "# Specify the output CSV files\n",
    "outfield_processed = 'combined_match_data/outfield_processed.csv'\n",
    "keeper_processed = 'combined_match_data/keeper_processed.csv'\n",
    "\n",
    "# Specify the value to replace empty cells\n",
    "replacement_value = 'NULL'  # or any other value that MySQL Workbench recognizes\n",
    "\n",
    "# Function to process the CSV file\n",
    "def process_csv(input_file, output_file):\n",
    "    with open(input_file, 'r') as file_in, open(output_file, 'w', newline='') as file_out:\n",
    "        reader = csv.reader(file_in)\n",
    "        writer = csv.writer(file_out)\n",
    "\n",
    "        for row in reader:\n",
    "            processed_row = [cell if cell else replacement_value for cell in row]\n",
    "            writer.writerow(processed_row)\n",
    "\n",
    "# Process the outfield CSV\n",
    "process_csv(outfield_csv, outfield_processed)\n",
    "\n",
    "# Process the keeper CSV\n",
    "process_csv(keeper_csv, keeper_processed)\n"
   ]
  },
  {
   "cell_type": "code",
   "execution_count": null,
   "metadata": {},
   "outputs": [],
   "source": []
  }
 ],
 "metadata": {
  "kernelspec": {
   "display_name": "fpl-scraper-venv",
   "language": "python",
   "name": "python3"
  },
  "language_info": {
   "codemirror_mode": {
    "name": "ipython",
    "version": 3
   },
   "file_extension": ".py",
   "mimetype": "text/x-python",
   "name": "python",
   "nbconvert_exporter": "python",
   "pygments_lexer": "ipython3",
   "version": "3.10.4"
  },
  "orig_nbformat": 4
 },
 "nbformat": 4,
 "nbformat_minor": 2
}
