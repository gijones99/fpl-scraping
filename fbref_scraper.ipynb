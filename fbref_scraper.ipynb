{
 "cells": [
  {
   "cell_type": "code",
   "execution_count": 39,
   "metadata": {},
   "outputs": [],
   "source": [
    "import requests\n",
    "import pandas as pd\n",
    "from bs4 import BeautifulSoup\n",
    "from urllib.parse import urljoin\n",
    "from selenium import webdriver\n",
    "from selenium.webdriver.chrome.service import Service\n",
    "from selenium.webdriver.common.by import By\n",
    "from selenium.webdriver.support import expected_conditions as EC\n",
    "from selenium.webdriver.support.ui import WebDriverWait\n",
    "from webdriver_manager.chrome import ChromeDriverManager\n"
   ]
  },
  {
   "cell_type": "code",
   "execution_count": 40,
   "metadata": {},
   "outputs": [],
   "source": [
    "FBREF_HOMEPAGE_URL = \"https://fbref.com/\"\n",
    "PREM_URL = \"https://fbref.com/en/comps/9/Premier-League-Stats\""
   ]
  },
  {
   "cell_type": "code",
   "execution_count": 41,
   "metadata": {},
   "outputs": [],
   "source": [
    "player_name = \"douglas luiz\"\n",
    "player_team = \"aston villa\""
   ]
  },
  {
   "cell_type": "code",
   "execution_count": 42,
   "metadata": {},
   "outputs": [],
   "source": [
    "def get_teams_urls(league_url, table_tag_id = \"results2022-202391_overall\"):\n",
    "    # make a request to the webpage. SHOULD MOVE THIS OUT\n",
    "    response = requests.get(league_url)\n",
    "\n",
    "    # Set up the Selenium web driver (replace with the path to your chromedriver)\n",
    "    driver = webdriver.Chrome(service=Service(ChromeDriverManager().install()))\n",
    "\n",
    "    # Load the page using Selenium\n",
    "    driver.get(league_url)\n",
    "\n",
    "    # create a Beautiful Soup object from the response content\n",
    "    soup = BeautifulSoup(response.content, 'html.parser')\n",
    "    \n",
    "    wait = WebDriverWait(driver, 10)\n",
    "    table = wait.until(EC.presence_of_element_located((By.ID, table_tag_id)))\n",
    "\n",
    "    # find the table with id 'div_matchlogs_for'\n",
    "    table = soup.find('table', {'id': table_tag_id})\n",
    "\n",
    "    # extract the table rows\n",
    "    rows = table.find_all('tr')\n",
    "\n",
    "    # extract the data from each row and store it in a list\n",
    "    url_data = {}\n",
    "    for row in rows:\n",
    "        team_cell = row.find('td', {'data-stat': 'team'})\n",
    "        if team_cell:\n",
    "            team_name = team_cell.find(\"a\").text\n",
    "            team_url_tail = team_cell.find(\"a\")['href']\n",
    "            team_url = urljoin(FBREF_HOMEPAGE_URL, team_url_tail)\n",
    "            url_data[team_name] = team_url\n",
    "            \n",
    "    driver.quit()\n",
    "    return url_data\n"
   ]
  },
  {
   "cell_type": "code",
   "execution_count": 44,
   "metadata": {},
   "outputs": [
    {
     "data": {
      "text/plain": [
       "{'Arsenal': 'https://fbref.com/en/squads/18bb7c10/Arsenal-Stats',\n",
       " 'Manchester City': 'https://fbref.com/en/squads/b8fd03ef/Manchester-City-Stats',\n",
       " 'Manchester Utd': 'https://fbref.com/en/squads/19538871/Manchester-United-Stats',\n",
       " 'Tottenham': 'https://fbref.com/en/squads/361ca564/Tottenham-Hotspur-Stats',\n",
       " 'Liverpool': 'https://fbref.com/en/squads/822bd0ba/Liverpool-Stats',\n",
       " 'Newcastle Utd': 'https://fbref.com/en/squads/b2b47a98/Newcastle-United-Stats',\n",
       " 'Fulham': 'https://fbref.com/en/squads/fd962109/Fulham-Stats',\n",
       " 'Brighton': 'https://fbref.com/en/squads/d07537b9/Brighton-and-Hove-Albion-Stats',\n",
       " 'Brentford': 'https://fbref.com/en/squads/cd051869/Brentford-Stats',\n",
       " 'Chelsea': 'https://fbref.com/en/squads/cff3d9bb/Chelsea-Stats',\n",
       " 'Aston Villa': 'https://fbref.com/en/squads/8602292d/Aston-Villa-Stats',\n",
       " 'Crystal Palace': 'https://fbref.com/en/squads/47c64c55/Crystal-Palace-Stats',\n",
       " 'Wolves': 'https://fbref.com/en/squads/8cec06e1/Wolverhampton-Wanderers-Stats',\n",
       " \"Nott'ham Forest\": 'https://fbref.com/en/squads/e4a775cb/Nottingham-Forest-Stats',\n",
       " 'Leicester City': 'https://fbref.com/en/squads/a2d435b3/Leicester-City-Stats',\n",
       " 'West Ham': 'https://fbref.com/en/squads/7c21e445/West-Ham-United-Stats',\n",
       " 'Leeds United': 'https://fbref.com/en/squads/5bfb9659/Leeds-United-Stats',\n",
       " 'Everton': 'https://fbref.com/en/squads/d3fd31cc/Everton-Stats',\n",
       " 'Southampton': 'https://fbref.com/en/squads/33c895d4/Southampton-Stats',\n",
       " 'Bournemouth': 'https://fbref.com/en/squads/4ba7cbea/Bournemouth-Stats'}"
      ]
     },
     "execution_count": 44,
     "metadata": {},
     "output_type": "execute_result"
    }
   ],
   "source": [
    "get_teams_urls(PREM_URL)"
   ]
  }
 ],
 "metadata": {
  "kernelspec": {
   "display_name": "fpl-scraper-env",
   "language": "python",
   "name": "python3"
  },
  "language_info": {
   "codemirror_mode": {
    "name": "ipython",
    "version": 3
   },
   "file_extension": ".py",
   "mimetype": "text/x-python",
   "name": "python",
   "nbconvert_exporter": "python",
   "pygments_lexer": "ipython3",
   "version": "3.10.4"
  },
  "orig_nbformat": 4
 },
 "nbformat": 4,
 "nbformat_minor": 2
}
